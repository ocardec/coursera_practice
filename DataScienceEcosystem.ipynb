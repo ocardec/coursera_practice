{
 "cells": [
  {
   "cell_type": "markdown",
   "id": "8eb740a1-786b-4213-bacf-1e9d15797129",
   "metadata": {},
   "source": [
    "# Data Science Tools and Ecosystem"
   ]
  },
  {
   "cell_type": "markdown",
   "id": "206e7676-f0c6-4f2f-8ea5-024909d2f5b8",
   "metadata": {},
   "source": [
    "In this notebook, Data Science Tools and Ecosystem are summarized. "
   ]
  },
  {
   "cell_type": "markdown",
   "id": "379a7d16-808a-4b30-a7c3-09ba2897c5de",
   "metadata": {},
   "source": [
    "**Objectives:**\n",
    "- Popular DS Languagues\n",
    "- Common DS Libraries\n",
    "- Basic Markdown Features\n",
    "- Arithmetic Expression Examples"
   ]
  },
  {
   "cell_type": "markdown",
   "id": "ae6c032c-24a1-4d80-8994-554520077c38",
   "metadata": {},
   "source": [
    "Some of the popular languages that Data Scientists use are:\n",
    "1. Python\n",
    "2. R\n",
    "3. Julia\n",
    "4. Scala\n",
    "5. JavaScript\n",
    "6. SQL\n"
   ]
  },
  {
   "cell_type": "markdown",
   "id": "ad37d5f6-2d28-4e43-b3f8-71cd870dcec4",
   "metadata": {},
   "source": [
    "Some of the commonly used libraries used by Data Scientists include:\n",
    "1. pandas\n",
    "2. numpy\n",
    "3. matplotlib\n",
    "4. scikit-learn\n",
    "4. keras "
   ]
  },
  {
   "cell_type": "markdown",
   "id": "740c4689-4585-40a1-be7a-08ab6ba828dc",
   "metadata": {},
   "source": [
    "| Data Science Tools|\n",
    "|-------------------|\n",
    "| RStudio | \n",
    "| Atom | \n",
    "| VS Code |\n",
    "| Sublime Text |"
   ]
  },
  {
   "cell_type": "markdown",
   "id": "e7cc5ce1-cf93-4753-a081-8ff2a00c9f74",
   "metadata": {},
   "source": [
    "### Below are a few examples of evaluating arithmetic expressions in Python"
   ]
  },
  {
   "cell_type": "code",
   "execution_count": 1,
   "id": "4fe3f4b6-e5de-4e44-9998-5ac1a5f8f477",
   "metadata": {
    "tags": []
   },
   "outputs": [
    {
     "data": {
      "text/plain": [
       "17"
      ]
     },
     "execution_count": 1,
     "metadata": {},
     "output_type": "execute_result"
    }
   ],
   "source": [
    "# This is a simple arithmetic expression to multiply then add integers\n",
    "(3*4)+5"
   ]
  },
  {
   "cell_type": "code",
   "execution_count": 2,
   "id": "b41f709e-050a-46f8-84e1-eab28ffda890",
   "metadata": {
    "tags": []
   },
   "outputs": [
    {
     "name": "stdout",
     "output_type": "stream",
     "text": [
      "3.33 hours\n"
     ]
    }
   ],
   "source": [
    "# This will convert 200 minutes to hours by diving by 60\n",
    "min = 200\n",
    "min_hr = 60\n",
    "hr = (min/min_hr)\n",
    "print(round(hr, 2), \"hours\")"
   ]
  },
  {
   "cell_type": "markdown",
   "id": "0a7103ac-118d-49d4-8b19-c358ab47778d",
   "metadata": {},
   "source": [
    "</p>"
   ]
  },
  {
   "cell_type": "markdown",
   "id": "739c86d7-6e29-47ce-9ce0-35e4cd0efd52",
   "metadata": {},
   "source": [
    "## Author"
   ]
  },
  {
   "cell_type": "markdown",
   "id": "9466390a-ff22-4913-ac09-6c3e5b24f313",
   "metadata": {},
   "source": [
    "Oscar Cardec"
   ]
  }
 ],
 "metadata": {
  "kernelspec": {
   "display_name": "Python",
   "language": "python",
   "name": "conda-env-python-py"
  },
  "language_info": {
   "codemirror_mode": {
    "name": "ipython",
    "version": 3
   },
   "file_extension": ".py",
   "mimetype": "text/x-python",
   "name": "python",
   "nbconvert_exporter": "python",
   "pygments_lexer": "ipython3",
   "version": "3.7.12"
  }
 },
 "nbformat": 4,
 "nbformat_minor": 5
}
